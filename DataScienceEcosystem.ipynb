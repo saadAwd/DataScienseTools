{
 "cells": [
  {
   "cell_type": "markdown",
   "id": "0acb67e3-6350-44f4-b453-637a2dfa8d70",
   "metadata": {},
   "source": [
    "# Data Science Tools and Ecosystem"
   ]
  },
  {
   "cell_type": "markdown",
   "id": "4cea364d-b77d-4263-9b64-f66679bd0610",
   "metadata": {},
   "source": [
    "In this notebook, Data Science Tools and Ecosystem are summarized."
   ]
  },
  {
   "cell_type": "markdown",
   "id": "d7d7914a-1a90-4f6c-9708-d57f88528500",
   "metadata": {},
   "source": [
    "Some of the popular languages that Data Scientists use are:\n",
    "1. Python\n",
    "2. R\n",
    "3. Julia"
   ]
  },
  {
   "cell_type": "markdown",
   "id": "2a0a6cb3-cd7f-437c-8f5e-f2b6d29bbf4e",
   "metadata": {},
   "source": [
    "Some of the commonly used libraries used by Data Scientists include:\n",
    "1. Scikit-learn library for machine learning.\n",
    "2. TensorFlow for deep-learning models.\n",
    "3. Pandas for data structures."
   ]
  },
  {
   "cell_type": "markdown",
   "id": "b2fd1122-e742-4b3b-bbb7-ab7c3764c817",
   "metadata": {},
   "source": [
    "|Data Science Tools|\n",
    " ------------------ \n",
    "|MySQL|\n",
    "|Apache Kafka|\n",
    "|PowerBI|"
   ]
  },
  {
   "cell_type": "markdown",
   "id": "7dc020cf-ccd3-4621-bd33-960413767c4f",
   "metadata": {},
   "source": [
    "### Below are a few examples of evaluating arithmetic expressions in Python"
   ]
  },
  {
   "cell_type": "code",
   "execution_count": 1,
   "id": "06cfebad-27b3-4b59-a087-91ff5e450b96",
   "metadata": {
    "tags": []
   },
   "outputs": [
    {
     "data": {
      "text/plain": [
       "17"
      ]
     },
     "execution_count": 1,
     "metadata": {},
     "output_type": "execute_result"
    }
   ],
   "source": [
    "# This a simple arithmetic expression to mutiply then add integers\n",
    "(3*4)+5"
   ]
  },
  {
   "cell_type": "code",
   "execution_count": 2,
   "id": "f196eb84-7579-4eae-97d3-72c81e053deb",
   "metadata": {
    "tags": []
   },
   "outputs": [
    {
     "data": {
      "text/plain": [
       "3.3333333333333335"
      ]
     },
     "execution_count": 2,
     "metadata": {},
     "output_type": "execute_result"
    }
   ],
   "source": [
    "# This will convert 200 minutes to hours by diving by 60\n",
    "200/60"
   ]
  },
  {
   "cell_type": "markdown",
   "id": "de688fdd-04b9-4e94-af08-4d2e51d83c40",
   "metadata": {},
   "source": [
    "**Objectives:**\n",
    "* List popular languages for Data Science\n",
    "* List commonly used libraries used by Data Scientists include\n",
    "* List popular Data Science Tools\n",
    "* Bring some examples of evaluating arithmetic expressions in Python"
   ]
  },
  {
   "cell_type": "markdown",
   "id": "60570ffd-f7a2-41a9-991e-4d58f2fe2047",
   "metadata": {},
   "source": [
    "## Author\n",
    "Saad"
   ]
  },
  {
   "cell_type": "code",
   "execution_count": null,
   "id": "d225bef3-505a-4b4c-96a8-657b6eeb3414",
   "metadata": {},
   "outputs": [],
   "source": []
  }
 ],
 "metadata": {
  "kernelspec": {
   "display_name": "Python",
   "language": "python",
   "name": "conda-env-python-py"
  },
  "language_info": {
   "codemirror_mode": {
    "name": "ipython",
    "version": 3
   },
   "file_extension": ".py",
   "mimetype": "text/x-python",
   "name": "python",
   "nbconvert_exporter": "python",
   "pygments_lexer": "ipython3",
   "version": "3.7.12"
  }
 },
 "nbformat": 4,
 "nbformat_minor": 5
}
